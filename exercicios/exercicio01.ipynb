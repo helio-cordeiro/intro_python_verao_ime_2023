{
 "cells": [
  {
   "cell_type": "markdown",
   "metadata": {
    "collapsed": true,
    "pycharm": {
     "name": "#%% md\n"
    }
   },
   "source": [
    "## Exercícios - Aula 01"
   ]
  },
  {
   "cell_type": "markdown",
   "metadata": {
    "collapsed": false,
    "pycharm": {
     "name": "#%% md\n"
    }
   },
   "source": [
    "1) Escolha um número entre 1 e 10 e armazene ele numa variável chamada *segredo*. Escolha outro número entre 1 e 10 novamente e salve ele numa variável chamada *chute*. Depois, escreva testes condicionais usando *if*, *else* e *elif* para exibir a mensagem \"muito menor\" se *chute* é menor do que *segredo*, \"muito maior\" se *chute* é maior do que *segredo* e \"na mosca\" se *chute* for igual à *segredo*.\n",
    "\n",
    "2) Escreva uma cadeia de instrucões *if*-*elif*-*else* que determine o estágio da vida de uma pessoa. Defina um valor para a variável *idade* e então:\n",
    "- Se a pessoa tiver menos de 2 anos de idade, mostre uma mensagem dizendo que ela ainda é um bebê.\n",
    "- Se a pessoa tiver pelo menos 2 anos, mas menos de 4, mostre uma mensagem dizendo que ela é uma crianca.\n",
    "- Se a pessoa tiver pelo menos 4 anos, mas menos de 13, mostre uma mensagem dizendo que ela é um(a) goroto(a).\n",
    "- Se a pessoa tiver pelo menos 13 anos, mas menos de 20, mostre uma mensagem dizendo que ela é um(a) adolescente.\n",
    "- Se a pessoa tiver pelo menos 20 anos, mas menos de 65, mostre uma mensagem dizendo que ela é um(a) adulto(a).\n",
    "- Se a pessoa tiver 65 anos ou mais, mostre uma mensagem dizendo que ela é uma pessoa idosa.\n",
    "\n",
    "3) Crie uma lista com cinco ou mais nomes de usuários, incluindo o nome \"admin\". Suponha que você esteja escrevendo um código que exibirá uma saudacão a cada usuário depois que eles fizerem login em um site. Percorra a lista com um laco e mostre uma saudacão para cada usuário:\n",
    "- Se o nome do usuário for \"admin\", mostre uma saudacão especial, por exemplo, \"Olá admin, gostaria de ver o relatório de status?\"\n",
    "- Caso contrário, mostre a saudacão genérica, como \"Olá José, obrigado por fazer login novamente\".\n",
    "\n",
    "4) A partir do exercício anterior, modifique o código criado para acrescentar um teste if que verifica se a lista de usuarios está vazia.\n",
    "- Se a lista de usuários estiver vazia, mostre a mensagem \"Precisamos encontrar alguns usuários!\". Remova todos os nomes de usuários da lista e certifique-se de que essa mensagem aparecerá.\n",
    "\n",
    "5) Crie um programa que simule o modo como os sites garantem que todos tenham um nome de usuário único.\n",
    "- Crie uma lista chamada *current_users* com cinco ou mais nomes de usuários\n",
    "- Crie uma list chamada *new_users* com cinco nomes de usuários. Garanta que dois dos novos usuários também estejam na lista *current_users*\n",
    "- Percorra a lista *new_users* com um laco para ver se cada novo nome de usuário já foi usado. Em caso afirmativo, mostre uma mensagem afirmando que a pessoa deverá fornecer um novo nome. Se um usuário não foi usado, apresente uma mensagem dizendo que o nome do usuário está disponível.\n",
    "- Certifique-se de que sua comparacão não levará em conta as diferencas entre letras maiúsculas e minúsculas. Se \"Pedro\" foi usado, \"PEDRO\" não deverá ser aceito.\n",
    "\n",
    "6) Números ordinais indicam sua posicão em uma lista, por exemplo, 1st, 2nd, em inglês. A maioria dos números ordinais nessa língua termina com th, exceto, 1, 2 e 3.\n",
    "- Armazene os números de 1 a 9 em uma lista.\n",
    "- Pecorra essa lista com um laco.\n",
    "- Use uma cadeia de instrucões *if*-*elif*-*else* que exiba a terminacão apropriada para cada número ordinal. Sua saída deverá conter \"1st 2nd 3rd 4th 5th 6th 7th 8th 9th\" e cada resultado deve estar em uma linha separada\n"
   ]
  },
  {
   "cell_type": "code",
   "execution_count": 5,
   "metadata": {},
   "outputs": [],
   "source": [
    "#1) Escolha um número entre 1 e 10 e armazene ele numa variável chamada *segredo*. Escolha outro número entre 1 e 10 novamente e salve ele numa variável chamada *chute*. Depois, escreva testes condicionais usando *if*, *else* e *elif* para exibir a mensagem \"muito menor\" se *chute* é menor do que *segredo*, \"muito maior\" se *chute* é maior do que *segredo* e \"na mosca\" se *chute* for igual à *segredo*.\n",
    "\n",
    "segredo = 1\n",
    "chute = 1"
   ]
  },
  {
   "cell_type": "code",
   "execution_count": 6,
   "metadata": {},
   "outputs": [
    {
     "name": "stdout",
     "output_type": "stream",
     "text": [
      "na mosca\n"
     ]
    }
   ],
   "source": [
    "if chute < segredo:\n",
    "    print(\"muito menor\")\n",
    "elif chute > segredo:\n",
    "    print(\"muito maior\")\n",
    "else:\n",
    "    print(\"na mosca\")\n"
   ]
  },
  {
   "cell_type": "code",
   "execution_count": 10,
   "metadata": {},
   "outputs": [],
   "source": [
    "#2) Escreva uma cadeia de instrucões *if*-*elif*-*else* que determine o estágio da vida de uma pessoa. Defina um valor para a variável *idade* e então:\n",
    "\n",
    "idade = 70"
   ]
  },
  {
   "cell_type": "code",
   "execution_count": 11,
   "metadata": {},
   "outputs": [
    {
     "name": "stdout",
     "output_type": "stream",
     "text": [
      "idoso(a)\n"
     ]
    }
   ],
   "source": [
    "if idade <= 2:\n",
    "    print(\"bebe\")\n",
    "elif idade > 2 and idade <= 4:\n",
    "    print(\"criança\")\n",
    "elif idade > 4 and idade <= 13:\n",
    "    print(\"garoto(a)\")\n",
    "elif idade > 13 and idade <= 20:\n",
    "    print(\"adolecente\")\n",
    "elif idade > 20 and idade <= 65:\n",
    "    print(\"adulto(a)\")\n",
    "else:\n",
    "    print(\"idoso(a)\") "
   ]
  },
  {
   "cell_type": "code",
   "execution_count": 5,
   "metadata": {},
   "outputs": [
    {
     "name": "stdout",
     "output_type": "stream",
     "text": [
      "Olá usuario1 obrigado por fazer login novamente\n",
      "Olá usuario2 obrigado por fazer login novamente\n",
      "Olá usuario3 obrigado por fazer login novamente\n",
      "Olá usuario4 obrigado por fazer login novamente\n",
      "Olá admin, gostaria de ver o relatório de status?\n"
     ]
    }
   ],
   "source": [
    "#3) Crie uma lista com cinco ou mais nomes de usuários, incluindo o nome \"admin\". Suponha que você esteja escrevendo um código que exibirá uma saudacão a cada usuário depois que eles fizerem login em um site. Percorra a lista com um laco e mostre uma saudacão para cada usuário:\n",
    "\n",
    "lista_login = [\"usuario1\",\"usuario2\",\"usuario3\",\"usuario4\",\"admin\"]\n",
    "\n",
    "for login in lista_login:\n",
    "    if login == \"admin\":\n",
    "        print (\"Olá admin, gostaria de ver o relatório de status?\")\n",
    "    else:\n",
    "        print (\"Olá\", login, \"obrigado por fazer login novamente\")\n"
   ]
  },
  {
   "cell_type": "code",
   "execution_count": 7,
   "metadata": {},
   "outputs": [
    {
     "name": "stdout",
     "output_type": "stream",
     "text": [
      "Precisamos encontrar alguns usuários!\n"
     ]
    }
   ],
   "source": [
    "#4) A partir do exercício anterior, modifique o código criado para acrescentar um teste if que verifica se a lista de usuarios está vazia.\n",
    "\n",
    "lista_login = []\n",
    "if lista_login == []:\n",
    "    print(\"Precisamos encontrar alguns usuários!\")\n",
    "else:\n",
    "    for login in lista_login:\n",
    "        if login == \"admin\":\n",
    "            print (\"Olá admin, gostaria de ver o relatório de status?\")\n",
    "        else:\n",
    "            print (\"Olá\", login, \"obrigado por fazer login novamente\")"
   ]
  },
  {
   "cell_type": "code",
   "execution_count": 9,
   "metadata": {},
   "outputs": [],
   "source": [
    "#5) Crie um programa que simule o modo como os sites garantem que todos tenham um nome de usuário único.\n",
    "\n",
    "current_users = [\"usuario1\",\"USUARIO2\",\"Usuario3\",\"usuario4\",\"admin\"]\n",
    "new_users = [\"usuario1\",\"usuario5\",\"usuario6\",\"usuario3\",\"usuario7\"]"
   ]
  },
  {
   "cell_type": "code",
   "execution_count": 12,
   "metadata": {},
   "outputs": [
    {
     "name": "stdout",
     "output_type": "stream",
     "text": [
      "['usuario1', 'usuario2', 'usuario3', 'usuario4', 'admin']\n",
      "['usuario1', 'usuario5', 'usuario6', 'usuario3', 'usuario7']\n"
     ]
    }
   ],
   "source": [
    "current_users_adj = [] #loop para ajuste das lista current_users\n",
    "for usuario in current_users:\n",
    "    current_users_adj.append(usuario.lower())\n",
    "print(current_users_adj)\n",
    "\n",
    "new_users_adj = [] #loop para ajuste da lista new_users\n",
    "for usuario in new_users:\n",
    "    new_users_adj.append(usuario.lower())\n",
    "print(new_users_adj)"
   ]
  },
  {
   "cell_type": "code",
   "execution_count": 16,
   "metadata": {},
   "outputs": [
    {
     "name": "stdout",
     "output_type": "stream",
     "text": [
      "{'usuario1': 'este usuario não está disponível', 'usuario5': 'este usuario está disponível', 'usuario6': 'este usuario está disponível', 'usuario3': 'este usuario não está disponível', 'usuario7': 'este usuario está disponível'}\n"
     ]
    }
   ],
   "source": [
    "#loop de checagem de usuarios que guarda as informações em um dicionario\n",
    "check = {}\n",
    "for usuario in new_users_adj:\n",
    "    if usuario in current_users_adj:\n",
    "        check[usuario] = (\"este usuario não está disponível\")\n",
    "    else:\n",
    "        check[usuario] = (\"este usuario está disponível\")\n",
    "print(check)\n"
   ]
  },
  {
   "cell_type": "code",
   "execution_count": 22,
   "metadata": {},
   "outputs": [
    {
     "name": "stdout",
     "output_type": "stream",
     "text": [
      "1st\n",
      "2nd\n",
      "3rd\n",
      "4th\n",
      "5th\n",
      "6th\n",
      "7th\n",
      "8th\n",
      "9th\n"
     ]
    }
   ],
   "source": [
    "#6) Números ordinais indicam sua posicão em uma lista, por exemplo, 1st, 2nd, em inglês. A maioria dos números ordinais nessa língua termina com th, exceto, 1, 2 e 3.\n",
    "\n",
    "lista_num = list(range(1,10))\n",
    "lista_num_new = []\n",
    "for numero in lista_num:\n",
    "    if numero == 1:\n",
    "        lista_num_new.append(str(numero) + \"st\")\n",
    "        print(str(numero) + \"st\")\n",
    "    elif numero == 2:\n",
    "        lista_num_new.append(str(numero) + \"nd\")\n",
    "        print(str(numero) + \"nd\")\n",
    "    elif numero == 3:\n",
    "        lista_num_new.append(str(numero) + \"rd\")\n",
    "        print(str(numero) + \"rd\")\n",
    "    else:\n",
    "        lista_num_new.append(str(numero) + \"th\")\n",
    "        print(str(numero) + \"th\")\n"
   ]
  }
 ],
 "metadata": {
  "kernelspec": {
   "display_name": "Python 3",
   "language": "python",
   "name": "python3"
  },
  "language_info": {
   "codemirror_mode": {
    "name": "ipython",
    "version": 3
   },
   "file_extension": ".py",
   "mimetype": "text/x-python",
   "name": "python",
   "nbconvert_exporter": "python",
   "pygments_lexer": "ipython3",
   "version": "3.10.4"
  },
  "vscode": {
   "interpreter": {
    "hash": "3ad933181bd8a04b432d3370b9dc3b0662ad032c4dfaa4e4f1596c548f763858"
   }
  }
 },
 "nbformat": 4,
 "nbformat_minor": 0
}
